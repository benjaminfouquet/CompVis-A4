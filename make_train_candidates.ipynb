{
 "cells": [
  {
   "cell_type": "markdown",
   "metadata": {},
   "source": [
    "# Make train candidates\n",
    "\n",
    "To mimic the set up of the test set"
   ]
  },
  {
   "cell_type": "code",
   "execution_count": 8,
   "metadata": {},
   "outputs": [
    {
     "name": "stdout",
     "output_type": "stream",
     "text": [
      "  left right\n",
      "0  aaa   osr\n",
      "1  aaz   mqw\n",
      "2  abh   cdx\n",
      "3  abn   uzp\n",
      "4  abq   bbd\n"
     ]
    }
   ],
   "source": [
    "import pandas as pd\n",
    "import random\n",
    "import numpy as np\n",
    "import os\n",
    "\n",
    "# Load the data\n",
    "train_data = pd.read_csv('train.csv')\n",
    "print(train_data.head())"
   ]
  },
  {
   "cell_type": "code",
   "execution_count": 10,
   "metadata": {},
   "outputs": [
    {
     "name": "stdout",
     "output_type": "stream",
     "text": [
      "['left', 'c0', 'c1', 'c2', 'c3', 'c4', 'c5', 'c6', 'c7', 'c8', 'c9', 'c10', 'c11', 'c12', 'c13', 'c14', 'c15', 'c16', 'c17', 'c18', 'c19']\n"
     ]
    }
   ],
   "source": [
    "# Prepare columns\n",
    "columns_names = ['left'] + ['c'+str(i) for i in range(20)]\n",
    "print(columns_names)"
   ]
  },
  {
   "cell_type": "code",
   "execution_count": 66,
   "metadata": {},
   "outputs": [
    {
     "name": "stdout",
     "output_type": "stream",
     "text": [
      "(4000,) (4000,)\n"
     ]
    }
   ],
   "source": [
    "# Get all file names in train/all folder\n",
    "all_files = np.array([str(x.split('.')[0]) for x in os.listdir('train/all')])\n",
    "# Get number of unique elements\n",
    "unique = np.unique(all_files)\n",
    "print(unique.shape, all_files.shape)"
   ]
  },
  {
   "cell_type": "markdown",
   "metadata": {},
   "source": [
    "all files are unique"
   ]
  },
  {
   "cell_type": "code",
   "execution_count": 64,
   "metadata": {},
   "outputs": [
    {
     "data": {
      "text/html": [
       "<div>\n",
       "<style scoped>\n",
       "    .dataframe tbody tr th:only-of-type {\n",
       "        vertical-align: middle;\n",
       "    }\n",
       "\n",
       "    .dataframe tbody tr th {\n",
       "        vertical-align: top;\n",
       "    }\n",
       "\n",
       "    .dataframe thead th {\n",
       "        text-align: right;\n",
       "    }\n",
       "</style>\n",
       "<table border=\"1\" class=\"dataframe\">\n",
       "  <thead>\n",
       "    <tr style=\"text-align: right;\">\n",
       "      <th></th>\n",
       "      <th>left</th>\n",
       "      <th>c0</th>\n",
       "      <th>c1</th>\n",
       "      <th>c2</th>\n",
       "      <th>c3</th>\n",
       "      <th>c4</th>\n",
       "      <th>c5</th>\n",
       "      <th>c6</th>\n",
       "      <th>c7</th>\n",
       "      <th>c8</th>\n",
       "      <th>...</th>\n",
       "      <th>c10</th>\n",
       "      <th>c11</th>\n",
       "      <th>c12</th>\n",
       "      <th>c13</th>\n",
       "      <th>c14</th>\n",
       "      <th>c15</th>\n",
       "      <th>c16</th>\n",
       "      <th>c17</th>\n",
       "      <th>c18</th>\n",
       "      <th>c19</th>\n",
       "    </tr>\n",
       "  </thead>\n",
       "  <tbody>\n",
       "    <tr>\n",
       "      <th>0</th>\n",
       "      <td>aaa</td>\n",
       "      <td>ufk</td>\n",
       "      <td>ljz</td>\n",
       "      <td>sga</td>\n",
       "      <td>yqh</td>\n",
       "      <td>pjg</td>\n",
       "      <td>psw</td>\n",
       "      <td>vrg</td>\n",
       "      <td>rfi</td>\n",
       "      <td>mys</td>\n",
       "      <td>...</td>\n",
       "      <td>nis</td>\n",
       "      <td>osr</td>\n",
       "      <td>qqr</td>\n",
       "      <td>kei</td>\n",
       "      <td>zdr</td>\n",
       "      <td>nkb</td>\n",
       "      <td>bjy</td>\n",
       "      <td>wjw</td>\n",
       "      <td>ant</td>\n",
       "      <td>oir</td>\n",
       "    </tr>\n",
       "    <tr>\n",
       "      <th>1</th>\n",
       "      <td>aaz</td>\n",
       "      <td>mqw</td>\n",
       "      <td>znv</td>\n",
       "      <td>yci</td>\n",
       "      <td>cnz</td>\n",
       "      <td>xas</td>\n",
       "      <td>lve</td>\n",
       "      <td>zhb</td>\n",
       "      <td>czz</td>\n",
       "      <td>sax</td>\n",
       "      <td>...</td>\n",
       "      <td>utw</td>\n",
       "      <td>hri</td>\n",
       "      <td>htw</td>\n",
       "      <td>nrc</td>\n",
       "      <td>dha</td>\n",
       "      <td>xpf</td>\n",
       "      <td>dsg</td>\n",
       "      <td>rum</td>\n",
       "      <td>wdr</td>\n",
       "      <td>ndz</td>\n",
       "    </tr>\n",
       "    <tr>\n",
       "      <th>2</th>\n",
       "      <td>abh</td>\n",
       "      <td>six</td>\n",
       "      <td>eqp</td>\n",
       "      <td>jxp</td>\n",
       "      <td>tpn</td>\n",
       "      <td>kov</td>\n",
       "      <td>dga</td>\n",
       "      <td>auw</td>\n",
       "      <td>zvk</td>\n",
       "      <td>tdp</td>\n",
       "      <td>...</td>\n",
       "      <td>uvn</td>\n",
       "      <td>mnh</td>\n",
       "      <td>btj</td>\n",
       "      <td>cdx</td>\n",
       "      <td>umy</td>\n",
       "      <td>ajn</td>\n",
       "      <td>pwt</td>\n",
       "      <td>efv</td>\n",
       "      <td>til</td>\n",
       "      <td>tww</td>\n",
       "    </tr>\n",
       "    <tr>\n",
       "      <th>3</th>\n",
       "      <td>abn</td>\n",
       "      <td>jkz</td>\n",
       "      <td>ydq</td>\n",
       "      <td>pfl</td>\n",
       "      <td>fkq</td>\n",
       "      <td>jhn</td>\n",
       "      <td>ucy</td>\n",
       "      <td>adn</td>\n",
       "      <td>mie</td>\n",
       "      <td>dyo</td>\n",
       "      <td>...</td>\n",
       "      <td>dvv</td>\n",
       "      <td>kic</td>\n",
       "      <td>npi</td>\n",
       "      <td>clo</td>\n",
       "      <td>rbv</td>\n",
       "      <td>fus</td>\n",
       "      <td>qgo</td>\n",
       "      <td>kef</td>\n",
       "      <td>uzp</td>\n",
       "      <td>kzb</td>\n",
       "    </tr>\n",
       "    <tr>\n",
       "      <th>4</th>\n",
       "      <td>abq</td>\n",
       "      <td>ndj</td>\n",
       "      <td>pjy</td>\n",
       "      <td>zqr</td>\n",
       "      <td>vsk</td>\n",
       "      <td>jon</td>\n",
       "      <td>pke</td>\n",
       "      <td>jlk</td>\n",
       "      <td>wtb</td>\n",
       "      <td>arf</td>\n",
       "      <td>...</td>\n",
       "      <td>fbp</td>\n",
       "      <td>uud</td>\n",
       "      <td>unu</td>\n",
       "      <td>jgm</td>\n",
       "      <td>rjy</td>\n",
       "      <td>isv</td>\n",
       "      <td>dco</td>\n",
       "      <td>kfi</td>\n",
       "      <td>ezq</td>\n",
       "      <td>nzs</td>\n",
       "    </tr>\n",
       "  </tbody>\n",
       "</table>\n",
       "<p>5 rows × 21 columns</p>\n",
       "</div>"
      ],
      "text/plain": [
       "  left   c0   c1   c2   c3   c4   c5   c6   c7   c8  ...  c10  c11  c12  c13  \\\n",
       "0  aaa  ufk  ljz  sga  yqh  pjg  psw  vrg  rfi  mys  ...  nis  osr  qqr  kei   \n",
       "1  aaz  mqw  znv  yci  cnz  xas  lve  zhb  czz  sax  ...  utw  hri  htw  nrc   \n",
       "2  abh  six  eqp  jxp  tpn  kov  dga  auw  zvk  tdp  ...  uvn  mnh  btj  cdx   \n",
       "3  abn  jkz  ydq  pfl  fkq  jhn  ucy  adn  mie  dyo  ...  dvv  kic  npi  clo   \n",
       "4  abq  ndj  pjy  zqr  vsk  jon  pke  jlk  wtb  arf  ...  fbp  uud  unu  jgm   \n",
       "\n",
       "   c14  c15  c16  c17  c18  c19  \n",
       "0  zdr  nkb  bjy  wjw  ant  oir  \n",
       "1  dha  xpf  dsg  rum  wdr  ndz  \n",
       "2  umy  ajn  pwt  efv  til  tww  \n",
       "3  rbv  fus  qgo  kef  uzp  kzb  \n",
       "4  rjy  isv  dco  kfi  ezq  nzs  \n",
       "\n",
       "[5 rows x 21 columns]"
      ]
     },
     "execution_count": 64,
     "metadata": {},
     "output_type": "execute_result"
    }
   ],
   "source": [
    "records = []\n",
    "\n",
    "for i in range(len(train_data)):\n",
    "    left = train_data['left'][i]\n",
    "    right = train_data['right'][i]\n",
    "    \n",
    "    # get 19 random elemnts of all_files except left and right\n",
    "    idx = np.where((all_files != left) & (all_files != right))[0]\n",
    "    candidates = all_files[np.random.choice(idx, 19, replace=False)].astype(str)\n",
    "    candidates = np.concatenate((np.array([right]), candidates))\n",
    "    # shuffle the candidates\n",
    "    random.shuffle(candidates)\n",
    "\n",
    "    # Create a record\n",
    "    record = [left] + candidates.tolist()\n",
    "    records.append(record)\n",
    "\n",
    "df = pd.DataFrame(data=records, columns=columns_names)\n",
    "df.head()"
   ]
  },
  {
   "cell_type": "code",
   "execution_count": 67,
   "metadata": {},
   "outputs": [
    {
     "name": "stdout",
     "output_type": "stream",
     "text": [
      "All good!\n"
     ]
    }
   ],
   "source": [
    "# Check the correct image is in the dataframe\n",
    "try:\n",
    "    for i in range(len(train_data)):\n",
    "        if not train_data['right'][i] in df.iloc[i].values:\n",
    "            raise Exception('Error: missing true image on index', i)\n",
    "    print('All good!')    \n",
    "except:\n",
    "    print('Process terminated')"
   ]
  },
  {
   "cell_type": "code",
   "execution_count": 68,
   "metadata": {},
   "outputs": [],
   "source": [
    "# Write dataset to csv\n",
    "df.to_csv('train_candidates.csv', index=False)"
   ]
  }
 ],
 "metadata": {
  "kernelspec": {
   "display_name": ".venv",
   "language": "python",
   "name": "python3"
  },
  "language_info": {
   "codemirror_mode": {
    "name": "ipython",
    "version": 3
   },
   "file_extension": ".py",
   "mimetype": "text/x-python",
   "name": "python",
   "nbconvert_exporter": "python",
   "pygments_lexer": "ipython3",
   "version": "3.10.0"
  },
  "orig_nbformat": 4
 },
 "nbformat": 4,
 "nbformat_minor": 2
}
