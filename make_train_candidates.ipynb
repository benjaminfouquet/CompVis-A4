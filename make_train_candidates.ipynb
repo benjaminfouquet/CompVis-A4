{
 "cells": [
  {
   "cell_type": "markdown",
   "metadata": {},
   "source": [
    "# Make train candidates\n",
    "\n",
    "To mimic the set up of the test set"
   ]
  },
  {
   "cell_type": "code",
   "execution_count": 1,
   "metadata": {},
   "outputs": [
    {
     "name": "stdout",
     "output_type": "stream",
     "text": [
      "  left right\n",
      "0  aaa   osr\n",
      "1  aaz   mqw\n",
      "2  abh   cdx\n",
      "3  abn   uzp\n",
      "4  abq   bbd\n"
     ]
    }
   ],
   "source": [
    "import pandas as pd\n",
    "import random\n",
    "import numpy as np\n",
    "import os\n",
    "\n",
    "# Load the data\n",
    "train_data = pd.read_csv('data/train.csv')\n",
    "print(train_data.head())"
   ]
  },
  {
   "cell_type": "code",
   "execution_count": 2,
   "metadata": {},
   "outputs": [
    {
     "name": "stdout",
     "output_type": "stream",
     "text": [
      "['left', 'c0', 'c1', 'c2', 'c3', 'c4', 'c5', 'c6', 'c7', 'c8', 'c9', 'c10', 'c11', 'c12', 'c13', 'c14', 'c15', 'c16', 'c17', 'c18', 'c19']\n"
     ]
    }
   ],
   "source": [
    "# Prepare columns\n",
    "columns_names = ['left'] + ['c'+str(i) for i in range(20)]\n",
    "print(columns_names)"
   ]
  },
  {
   "cell_type": "code",
   "execution_count": 4,
   "metadata": {},
   "outputs": [
    {
     "name": "stdout",
     "output_type": "stream",
     "text": [
      "(4000,) (4000,)\n"
     ]
    }
   ],
   "source": [
    "# Get all file names in train/all folder\n",
    "all_files = np.array([str(x.split('.')[0]) for x in os.listdir('data/train/all')])\n",
    "# Get number of unique elements\n",
    "unique = np.unique(all_files)\n",
    "print(unique.shape, all_files.shape)"
   ]
  },
  {
   "cell_type": "markdown",
   "metadata": {},
   "source": [
    "all files are unique"
   ]
  },
  {
   "cell_type": "code",
   "execution_count": 5,
   "metadata": {},
   "outputs": [
    {
     "data": {
      "text/html": [
       "<div>\n",
       "<style scoped>\n",
       "    .dataframe tbody tr th:only-of-type {\n",
       "        vertical-align: middle;\n",
       "    }\n",
       "\n",
       "    .dataframe tbody tr th {\n",
       "        vertical-align: top;\n",
       "    }\n",
       "\n",
       "    .dataframe thead th {\n",
       "        text-align: right;\n",
       "    }\n",
       "</style>\n",
       "<table border=\"1\" class=\"dataframe\">\n",
       "  <thead>\n",
       "    <tr style=\"text-align: right;\">\n",
       "      <th></th>\n",
       "      <th>left</th>\n",
       "      <th>c0</th>\n",
       "      <th>c1</th>\n",
       "      <th>c2</th>\n",
       "      <th>c3</th>\n",
       "      <th>c4</th>\n",
       "      <th>c5</th>\n",
       "      <th>c6</th>\n",
       "      <th>c7</th>\n",
       "      <th>c8</th>\n",
       "      <th>...</th>\n",
       "      <th>c10</th>\n",
       "      <th>c11</th>\n",
       "      <th>c12</th>\n",
       "      <th>c13</th>\n",
       "      <th>c14</th>\n",
       "      <th>c15</th>\n",
       "      <th>c16</th>\n",
       "      <th>c17</th>\n",
       "      <th>c18</th>\n",
       "      <th>c19</th>\n",
       "    </tr>\n",
       "  </thead>\n",
       "  <tbody>\n",
       "    <tr>\n",
       "      <th>0</th>\n",
       "      <td>aaa</td>\n",
       "      <td>zzz</td>\n",
       "      <td>szv</td>\n",
       "      <td>kai</td>\n",
       "      <td>aan</td>\n",
       "      <td>iki</td>\n",
       "      <td>jub</td>\n",
       "      <td>xdr</td>\n",
       "      <td>egz</td>\n",
       "      <td>fad</td>\n",
       "      <td>...</td>\n",
       "      <td>osr</td>\n",
       "      <td>ixm</td>\n",
       "      <td>izx</td>\n",
       "      <td>pxc</td>\n",
       "      <td>epe</td>\n",
       "      <td>ifd</td>\n",
       "      <td>jqu</td>\n",
       "      <td>vpy</td>\n",
       "      <td>cfy</td>\n",
       "      <td>vgw</td>\n",
       "    </tr>\n",
       "    <tr>\n",
       "      <th>1</th>\n",
       "      <td>aaz</td>\n",
       "      <td>xav</td>\n",
       "      <td>mqw</td>\n",
       "      <td>ury</td>\n",
       "      <td>nsw</td>\n",
       "      <td>xmk</td>\n",
       "      <td>llu</td>\n",
       "      <td>myx</td>\n",
       "      <td>kxg</td>\n",
       "      <td>sfd</td>\n",
       "      <td>...</td>\n",
       "      <td>moi</td>\n",
       "      <td>gna</td>\n",
       "      <td>bin</td>\n",
       "      <td>mmj</td>\n",
       "      <td>xmi</td>\n",
       "      <td>duy</td>\n",
       "      <td>zdx</td>\n",
       "      <td>kxj</td>\n",
       "      <td>wck</td>\n",
       "      <td>oyd</td>\n",
       "    </tr>\n",
       "    <tr>\n",
       "      <th>2</th>\n",
       "      <td>abh</td>\n",
       "      <td>alm</td>\n",
       "      <td>ufo</td>\n",
       "      <td>ytr</td>\n",
       "      <td>waw</td>\n",
       "      <td>psd</td>\n",
       "      <td>ohf</td>\n",
       "      <td>mye</td>\n",
       "      <td>wpc</td>\n",
       "      <td>wci</td>\n",
       "      <td>...</td>\n",
       "      <td>fhn</td>\n",
       "      <td>vsm</td>\n",
       "      <td>cdx</td>\n",
       "      <td>urg</td>\n",
       "      <td>maq</td>\n",
       "      <td>pdc</td>\n",
       "      <td>twv</td>\n",
       "      <td>mas</td>\n",
       "      <td>tys</td>\n",
       "      <td>mvv</td>\n",
       "    </tr>\n",
       "    <tr>\n",
       "      <th>3</th>\n",
       "      <td>abn</td>\n",
       "      <td>ztx</td>\n",
       "      <td>bej</td>\n",
       "      <td>uqv</td>\n",
       "      <td>gfm</td>\n",
       "      <td>xuo</td>\n",
       "      <td>xhc</td>\n",
       "      <td>gxm</td>\n",
       "      <td>tos</td>\n",
       "      <td>tfh</td>\n",
       "      <td>...</td>\n",
       "      <td>ddh</td>\n",
       "      <td>aqm</td>\n",
       "      <td>mwv</td>\n",
       "      <td>qki</td>\n",
       "      <td>tmh</td>\n",
       "      <td>emk</td>\n",
       "      <td>mtv</td>\n",
       "      <td>wzb</td>\n",
       "      <td>mut</td>\n",
       "      <td>uzp</td>\n",
       "    </tr>\n",
       "    <tr>\n",
       "      <th>4</th>\n",
       "      <td>abq</td>\n",
       "      <td>snm</td>\n",
       "      <td>kzd</td>\n",
       "      <td>fsy</td>\n",
       "      <td>gkl</td>\n",
       "      <td>ivf</td>\n",
       "      <td>dzk</td>\n",
       "      <td>mih</td>\n",
       "      <td>hqd</td>\n",
       "      <td>ipb</td>\n",
       "      <td>...</td>\n",
       "      <td>ueo</td>\n",
       "      <td>kuc</td>\n",
       "      <td>sig</td>\n",
       "      <td>cjc</td>\n",
       "      <td>vug</td>\n",
       "      <td>gvz</td>\n",
       "      <td>hyy</td>\n",
       "      <td>bbd</td>\n",
       "      <td>jcf</td>\n",
       "      <td>ujz</td>\n",
       "    </tr>\n",
       "  </tbody>\n",
       "</table>\n",
       "<p>5 rows × 21 columns</p>\n",
       "</div>"
      ],
      "text/plain": [
       "  left   c0   c1   c2   c3   c4   c5   c6   c7   c8  ...  c10  c11  c12  c13  \\\n",
       "0  aaa  zzz  szv  kai  aan  iki  jub  xdr  egz  fad  ...  osr  ixm  izx  pxc   \n",
       "1  aaz  xav  mqw  ury  nsw  xmk  llu  myx  kxg  sfd  ...  moi  gna  bin  mmj   \n",
       "2  abh  alm  ufo  ytr  waw  psd  ohf  mye  wpc  wci  ...  fhn  vsm  cdx  urg   \n",
       "3  abn  ztx  bej  uqv  gfm  xuo  xhc  gxm  tos  tfh  ...  ddh  aqm  mwv  qki   \n",
       "4  abq  snm  kzd  fsy  gkl  ivf  dzk  mih  hqd  ipb  ...  ueo  kuc  sig  cjc   \n",
       "\n",
       "   c14  c15  c16  c17  c18  c19  \n",
       "0  epe  ifd  jqu  vpy  cfy  vgw  \n",
       "1  xmi  duy  zdx  kxj  wck  oyd  \n",
       "2  maq  pdc  twv  mas  tys  mvv  \n",
       "3  tmh  emk  mtv  wzb  mut  uzp  \n",
       "4  vug  gvz  hyy  bbd  jcf  ujz  \n",
       "\n",
       "[5 rows x 21 columns]"
      ]
     },
     "execution_count": 5,
     "metadata": {},
     "output_type": "execute_result"
    }
   ],
   "source": [
    "records = []\n",
    "\n",
    "for i in range(len(train_data)):\n",
    "    left = train_data['left'][i]\n",
    "    right = train_data['right'][i]\n",
    "    \n",
    "    # get 19 random elemnts of all_files except left and right\n",
    "    idx = np.where((all_files != left) & (all_files != right))[0]\n",
    "    candidates = all_files[np.random.choice(idx, 19, replace=False)].astype(str)\n",
    "    candidates = np.concatenate((np.array([right]), candidates))\n",
    "    # shuffle the candidates\n",
    "    random.shuffle(candidates)\n",
    "\n",
    "    # Create a record\n",
    "    record = [left] + candidates.tolist()\n",
    "    records.append(record)\n",
    "\n",
    "df = pd.DataFrame(data=records, columns=columns_names)\n",
    "df.head()"
   ]
  },
  {
   "cell_type": "code",
   "execution_count": 6,
   "metadata": {},
   "outputs": [
    {
     "name": "stdout",
     "output_type": "stream",
     "text": [
      "All good!\n"
     ]
    }
   ],
   "source": [
    "# Check the correct image is in the dataframe\n",
    "try:\n",
    "    for i in range(len(train_data)):\n",
    "        if not train_data['right'][i] in df.iloc[i].values:\n",
    "            raise Exception('Error: missing true image on index', i)\n",
    "    print('All good!')    \n",
    "except:\n",
    "    print('Process terminated')"
   ]
  },
  {
   "cell_type": "code",
   "execution_count": 7,
   "metadata": {},
   "outputs": [],
   "source": [
    "# Write dataset to csv\n",
    "df.to_csv('data/train_candidates.csv', index=False)"
   ]
  },
  {
   "cell_type": "code",
   "execution_count": null,
   "metadata": {},
   "outputs": [],
   "source": []
  },
  {
   "cell_type": "code",
   "execution_count": null,
   "metadata": {},
   "outputs": [],
   "source": []
  }
 ],
 "metadata": {
  "kernelspec": {
   "display_name": ".venv",
   "language": "python",
   "name": "python3"
  },
  "language_info": {
   "codemirror_mode": {
    "name": "ipython",
    "version": 3
   },
   "file_extension": ".py",
   "mimetype": "text/x-python",
   "name": "python",
   "nbconvert_exporter": "python",
   "pygments_lexer": "ipython3",
   "version": "3.9.13"
  },
  "orig_nbformat": 4
 },
 "nbformat": 4,
 "nbformat_minor": 2
}
