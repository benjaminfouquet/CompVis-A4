{
 "cells": [
  {
   "cell_type": "markdown",
   "metadata": {},
   "source": [
    "# Make train candidates\n",
    "\n",
    "To mimic the set up of the test set"
   ]
  },
  {
   "cell_type": "code",
   "execution_count": null,
   "metadata": {},
   "outputs": [],
   "source": [
    "# !pip install pandas"
   ]
  },
  {
   "cell_type": "code",
   "execution_count": 34,
   "metadata": {},
   "outputs": [
    {
     "name": "stdout",
     "output_type": "stream",
     "text": [
      "  left right\n",
      "0  aaa   osr\n",
      "1  aaz   mqw\n",
      "2  abh   cdx\n",
      "3  abn   uzp\n",
      "4  abq   bbd\n"
     ]
    }
   ],
   "source": [
    "import pandas as pd\n",
    "import random\n",
    "\n",
    "# Load the data\n",
    "train_data = pd.read_csv('train.csv')\n",
    "print(train_data.head())"
   ]
  },
  {
   "cell_type": "code",
   "execution_count": 33,
   "metadata": {},
   "outputs": [
    {
     "name": "stdout",
     "output_type": "stream",
     "text": [
      "['left', 'c0', 'c1', 'c2', 'c3', 'c4', 'c5', 'c6', 'c7', 'c8', 'c9', 'c10', 'c11', 'c12', 'c13', 'c14', 'c15', 'c16', 'c17', 'c18', 'c19']\n"
     ]
    }
   ],
   "source": [
    "# Prepare columns\n",
    "columns_names = ['left'] + ['c'+str(i) for i in range(20)]\n",
    "print(columns_names)"
   ]
  },
  {
   "cell_type": "code",
   "execution_count": 37,
   "metadata": {},
   "outputs": [
    {
     "data": {
      "text/html": [
       "<div>\n",
       "<style scoped>\n",
       "    .dataframe tbody tr th:only-of-type {\n",
       "        vertical-align: middle;\n",
       "    }\n",
       "\n",
       "    .dataframe tbody tr th {\n",
       "        vertical-align: top;\n",
       "    }\n",
       "\n",
       "    .dataframe thead th {\n",
       "        text-align: right;\n",
       "    }\n",
       "</style>\n",
       "<table border=\"1\" class=\"dataframe\">\n",
       "  <thead>\n",
       "    <tr style=\"text-align: right;\">\n",
       "      <th></th>\n",
       "      <th>left</th>\n",
       "      <th>c0</th>\n",
       "      <th>c1</th>\n",
       "      <th>c2</th>\n",
       "      <th>c3</th>\n",
       "      <th>c4</th>\n",
       "      <th>c5</th>\n",
       "      <th>c6</th>\n",
       "      <th>c7</th>\n",
       "      <th>c8</th>\n",
       "      <th>...</th>\n",
       "      <th>c10</th>\n",
       "      <th>c11</th>\n",
       "      <th>c12</th>\n",
       "      <th>c13</th>\n",
       "      <th>c14</th>\n",
       "      <th>c15</th>\n",
       "      <th>c16</th>\n",
       "      <th>c17</th>\n",
       "      <th>c18</th>\n",
       "      <th>c19</th>\n",
       "    </tr>\n",
       "  </thead>\n",
       "  <tbody>\n",
       "    <tr>\n",
       "      <th>0</th>\n",
       "      <td>aaa</td>\n",
       "      <td>ggq</td>\n",
       "      <td>jkj</td>\n",
       "      <td>ztq</td>\n",
       "      <td>udx</td>\n",
       "      <td>gbl</td>\n",
       "      <td>ouy</td>\n",
       "      <td>clt</td>\n",
       "      <td>wbn</td>\n",
       "      <td>qbo</td>\n",
       "      <td>...</td>\n",
       "      <td>cnb</td>\n",
       "      <td>ewk</td>\n",
       "      <td>wwv</td>\n",
       "      <td>wcw</td>\n",
       "      <td>nzr</td>\n",
       "      <td>plg</td>\n",
       "      <td>agz</td>\n",
       "      <td>cmy</td>\n",
       "      <td>bkj</td>\n",
       "      <td>osr</td>\n",
       "    </tr>\n",
       "    <tr>\n",
       "      <th>1</th>\n",
       "      <td>aaz</td>\n",
       "      <td>wuu</td>\n",
       "      <td>ysp</td>\n",
       "      <td>mqw</td>\n",
       "      <td>rja</td>\n",
       "      <td>ebd</td>\n",
       "      <td>igc</td>\n",
       "      <td>hpr</td>\n",
       "      <td>ukf</td>\n",
       "      <td>jeq</td>\n",
       "      <td>...</td>\n",
       "      <td>rxy</td>\n",
       "      <td>omf</td>\n",
       "      <td>zsp</td>\n",
       "      <td>yfw</td>\n",
       "      <td>vow</td>\n",
       "      <td>dbh</td>\n",
       "      <td>hrk</td>\n",
       "      <td>jza</td>\n",
       "      <td>gwh</td>\n",
       "      <td>gbv</td>\n",
       "    </tr>\n",
       "    <tr>\n",
       "      <th>2</th>\n",
       "      <td>abh</td>\n",
       "      <td>cgk</td>\n",
       "      <td>kyx</td>\n",
       "      <td>flf</td>\n",
       "      <td>kut</td>\n",
       "      <td>dzb</td>\n",
       "      <td>gdj</td>\n",
       "      <td>lgg</td>\n",
       "      <td>yga</td>\n",
       "      <td>emk</td>\n",
       "      <td>...</td>\n",
       "      <td>lti</td>\n",
       "      <td>vlr</td>\n",
       "      <td>afg</td>\n",
       "      <td>qct</td>\n",
       "      <td>hpk</td>\n",
       "      <td>cdx</td>\n",
       "      <td>oxi</td>\n",
       "      <td>vmg</td>\n",
       "      <td>jfo</td>\n",
       "      <td>pmq</td>\n",
       "    </tr>\n",
       "    <tr>\n",
       "      <th>3</th>\n",
       "      <td>abn</td>\n",
       "      <td>jxu</td>\n",
       "      <td>jfu</td>\n",
       "      <td>ljq</td>\n",
       "      <td>rxr</td>\n",
       "      <td>kbb</td>\n",
       "      <td>dwa</td>\n",
       "      <td>mld</td>\n",
       "      <td>zgz</td>\n",
       "      <td>tfl</td>\n",
       "      <td>...</td>\n",
       "      <td>srg</td>\n",
       "      <td>qxk</td>\n",
       "      <td>uzp</td>\n",
       "      <td>dyl</td>\n",
       "      <td>qzo</td>\n",
       "      <td>nqr</td>\n",
       "      <td>suk</td>\n",
       "      <td>nte</td>\n",
       "      <td>sqo</td>\n",
       "      <td>gtg</td>\n",
       "    </tr>\n",
       "    <tr>\n",
       "      <th>4</th>\n",
       "      <td>abq</td>\n",
       "      <td>opk</td>\n",
       "      <td>zjj</td>\n",
       "      <td>cpb</td>\n",
       "      <td>jiz</td>\n",
       "      <td>sws</td>\n",
       "      <td>tdn</td>\n",
       "      <td>plc</td>\n",
       "      <td>sky</td>\n",
       "      <td>mop</td>\n",
       "      <td>...</td>\n",
       "      <td>myw</td>\n",
       "      <td>nxa</td>\n",
       "      <td>vav</td>\n",
       "      <td>ksy</td>\n",
       "      <td>bfp</td>\n",
       "      <td>oay</td>\n",
       "      <td>sde</td>\n",
       "      <td>idu</td>\n",
       "      <td>huy</td>\n",
       "      <td>bbd</td>\n",
       "    </tr>\n",
       "  </tbody>\n",
       "</table>\n",
       "<p>5 rows × 21 columns</p>\n",
       "</div>"
      ],
      "text/plain": [
       "  left   c0   c1   c2   c3   c4   c5   c6   c7   c8  ...  c10  c11  c12  c13  \\\n",
       "0  aaa  ggq  jkj  ztq  udx  gbl  ouy  clt  wbn  qbo  ...  cnb  ewk  wwv  wcw   \n",
       "1  aaz  wuu  ysp  mqw  rja  ebd  igc  hpr  ukf  jeq  ...  rxy  omf  zsp  yfw   \n",
       "2  abh  cgk  kyx  flf  kut  dzb  gdj  lgg  yga  emk  ...  lti  vlr  afg  qct   \n",
       "3  abn  jxu  jfu  ljq  rxr  kbb  dwa  mld  zgz  tfl  ...  srg  qxk  uzp  dyl   \n",
       "4  abq  opk  zjj  cpb  jiz  sws  tdn  plc  sky  mop  ...  myw  nxa  vav  ksy   \n",
       "\n",
       "   c14  c15  c16  c17  c18  c19  \n",
       "0  nzr  plg  agz  cmy  bkj  osr  \n",
       "1  vow  dbh  hrk  jza  gwh  gbv  \n",
       "2  hpk  cdx  oxi  vmg  jfo  pmq  \n",
       "3  qzo  nqr  suk  nte  sqo  gtg  \n",
       "4  bfp  oay  sde  idu  huy  bbd  \n",
       "\n",
       "[5 rows x 21 columns]"
      ]
     },
     "execution_count": 37,
     "metadata": {},
     "output_type": "execute_result"
    }
   ],
   "source": [
    "records = []\n",
    "\n",
    "for i in range(len(train_data)):\n",
    "    left = train_data['left'][i]\n",
    "    right = train_data['right'][i]\n",
    "    \n",
    "    # ===========================================================================\n",
    "    # sample 19 random candidates from LEFT directory (will that be a problem?), excluding true images.\n",
    "    # ===========================================================================\n",
    "    candidates = random.sample(list(train_data['left'].where(lambda x: ~x.isin([left, right])).dropna()), 19)\n",
    "    candidates = [right] + candidates\n",
    "    # shuffle the candidates\n",
    "    random.shuffle(candidates)\n",
    "\n",
    "    # Create a record\n",
    "    record = [left] + candidates\n",
    "    records.append(record)\n",
    "\n",
    "df = pd.DataFrame(data=records, columns=columns_names)\n",
    "df.head()"
   ]
  },
  {
   "cell_type": "code",
   "execution_count": 42,
   "metadata": {},
   "outputs": [
    {
     "name": "stdout",
     "output_type": "stream",
     "text": [
      "All good!\n"
     ]
    }
   ],
   "source": [
    "# Check the correct image is in the dataframe\n",
    "try:\n",
    "    for i in range(len(train_data)):\n",
    "        if not train_data['right'][i] in df.iloc[i].values:\n",
    "            raise Exception('Error: missing true image on index', i)\n",
    "    print('All good!')    \n",
    "except:\n",
    "    print('Process terminated')"
   ]
  },
  {
   "cell_type": "code",
   "execution_count": 43,
   "metadata": {},
   "outputs": [],
   "source": [
    "# Write dataset to csv\n",
    "df.to_csv('train_candidates.csv', index=False)"
   ]
  }
 ],
 "metadata": {
  "kernelspec": {
   "display_name": ".venv",
   "language": "python",
   "name": "python3"
  },
  "language_info": {
   "codemirror_mode": {
    "name": "ipython",
    "version": 3
   },
   "file_extension": ".py",
   "mimetype": "text/x-python",
   "name": "python",
   "nbconvert_exporter": "python",
   "pygments_lexer": "ipython3",
   "version": "3.10.0"
  },
  "orig_nbformat": 4
 },
 "nbformat": 4,
 "nbformat_minor": 2
}
