{
 "cells": [
  {
   "cell_type": "code",
   "execution_count": 1,
   "metadata": {},
   "outputs": [
    {
     "name": "stdout",
     "output_type": "stream",
     "text": [
      "Requirement already satisfied: pandas in /Users/hec/Documents/unimelb/computer-vision/.venv/lib/python3.11/site-packages (2.1.1)\n",
      "Requirement already satisfied: numpy>=1.23.2 in /Users/hec/Documents/unimelb/computer-vision/.venv/lib/python3.11/site-packages (from pandas) (1.26.0)\n",
      "Requirement already satisfied: python-dateutil>=2.8.2 in /Users/hec/Documents/unimelb/computer-vision/.venv/lib/python3.11/site-packages (from pandas) (2.8.2)\n",
      "Requirement already satisfied: pytz>=2020.1 in /Users/hec/Documents/unimelb/computer-vision/.venv/lib/python3.11/site-packages (from pandas) (2023.3.post1)\n",
      "Requirement already satisfied: tzdata>=2022.1 in /Users/hec/Documents/unimelb/computer-vision/.venv/lib/python3.11/site-packages (from pandas) (2023.3)\n",
      "Requirement already satisfied: six>=1.5 in /Users/hec/Documents/unimelb/computer-vision/.venv/lib/python3.11/site-packages (from python-dateutil>=2.8.2->pandas) (1.16.0)\n",
      "\n",
      "\u001b[1m[\u001b[0m\u001b[34;49mnotice\u001b[0m\u001b[1;39;49m]\u001b[0m\u001b[39;49m A new release of pip is available: \u001b[0m\u001b[31;49m23.2.1\u001b[0m\u001b[39;49m -> \u001b[0m\u001b[32;49m23.3\u001b[0m\n",
      "\u001b[1m[\u001b[0m\u001b[34;49mnotice\u001b[0m\u001b[1;39;49m]\u001b[0m\u001b[39;49m To update, run: \u001b[0m\u001b[32;49mpip install --upgrade pip\u001b[0m\n",
      "Requirement already satisfied: torch in /Users/hec/Documents/unimelb/computer-vision/.venv/lib/python3.11/site-packages (2.1.0)\n",
      "Requirement already satisfied: filelock in /Users/hec/Documents/unimelb/computer-vision/.venv/lib/python3.11/site-packages (from torch) (3.12.4)\n",
      "Requirement already satisfied: typing-extensions in /Users/hec/Documents/unimelb/computer-vision/.venv/lib/python3.11/site-packages (from torch) (4.8.0)\n",
      "Requirement already satisfied: sympy in /Users/hec/Documents/unimelb/computer-vision/.venv/lib/python3.11/site-packages (from torch) (1.12)\n",
      "Requirement already satisfied: networkx in /Users/hec/Documents/unimelb/computer-vision/.venv/lib/python3.11/site-packages (from torch) (3.1)\n",
      "Requirement already satisfied: jinja2 in /Users/hec/Documents/unimelb/computer-vision/.venv/lib/python3.11/site-packages (from torch) (3.1.2)\n",
      "Requirement already satisfied: fsspec in /Users/hec/Documents/unimelb/computer-vision/.venv/lib/python3.11/site-packages (from torch) (2023.9.2)\n",
      "Requirement already satisfied: MarkupSafe>=2.0 in /Users/hec/Documents/unimelb/computer-vision/.venv/lib/python3.11/site-packages (from jinja2->torch) (2.1.3)\n",
      "Requirement already satisfied: mpmath>=0.19 in /Users/hec/Documents/unimelb/computer-vision/.venv/lib/python3.11/site-packages (from sympy->torch) (1.3.0)\n",
      "\n",
      "\u001b[1m[\u001b[0m\u001b[34;49mnotice\u001b[0m\u001b[1;39;49m]\u001b[0m\u001b[39;49m A new release of pip is available: \u001b[0m\u001b[31;49m23.2.1\u001b[0m\u001b[39;49m -> \u001b[0m\u001b[32;49m23.3\u001b[0m\n",
      "\u001b[1m[\u001b[0m\u001b[34;49mnotice\u001b[0m\u001b[1;39;49m]\u001b[0m\u001b[39;49m To update, run: \u001b[0m\u001b[32;49mpip install --upgrade pip\u001b[0m\n",
      "Requirement already satisfied: torchvision in /Users/hec/Documents/unimelb/computer-vision/.venv/lib/python3.11/site-packages (0.16.0)\n",
      "Requirement already satisfied: numpy in /Users/hec/Documents/unimelb/computer-vision/.venv/lib/python3.11/site-packages (from torchvision) (1.26.0)\n",
      "Requirement already satisfied: requests in /Users/hec/Documents/unimelb/computer-vision/.venv/lib/python3.11/site-packages (from torchvision) (2.31.0)\n",
      "Requirement already satisfied: torch==2.1.0 in /Users/hec/Documents/unimelb/computer-vision/.venv/lib/python3.11/site-packages (from torchvision) (2.1.0)\n",
      "Requirement already satisfied: pillow!=8.3.*,>=5.3.0 in /Users/hec/Documents/unimelb/computer-vision/.venv/lib/python3.11/site-packages (from torchvision) (10.0.1)\n",
      "Requirement already satisfied: filelock in /Users/hec/Documents/unimelb/computer-vision/.venv/lib/python3.11/site-packages (from torch==2.1.0->torchvision) (3.12.4)\n",
      "Requirement already satisfied: typing-extensions in /Users/hec/Documents/unimelb/computer-vision/.venv/lib/python3.11/site-packages (from torch==2.1.0->torchvision) (4.8.0)\n",
      "Requirement already satisfied: sympy in /Users/hec/Documents/unimelb/computer-vision/.venv/lib/python3.11/site-packages (from torch==2.1.0->torchvision) (1.12)\n",
      "Requirement already satisfied: networkx in /Users/hec/Documents/unimelb/computer-vision/.venv/lib/python3.11/site-packages (from torch==2.1.0->torchvision) (3.1)\n",
      "Requirement already satisfied: jinja2 in /Users/hec/Documents/unimelb/computer-vision/.venv/lib/python3.11/site-packages (from torch==2.1.0->torchvision) (3.1.2)\n",
      "Requirement already satisfied: fsspec in /Users/hec/Documents/unimelb/computer-vision/.venv/lib/python3.11/site-packages (from torch==2.1.0->torchvision) (2023.9.2)\n",
      "Requirement already satisfied: charset-normalizer<4,>=2 in /Users/hec/Documents/unimelb/computer-vision/.venv/lib/python3.11/site-packages (from requests->torchvision) (3.3.0)\n",
      "Requirement already satisfied: idna<4,>=2.5 in /Users/hec/Documents/unimelb/computer-vision/.venv/lib/python3.11/site-packages (from requests->torchvision) (3.4)\n",
      "Requirement already satisfied: urllib3<3,>=1.21.1 in /Users/hec/Documents/unimelb/computer-vision/.venv/lib/python3.11/site-packages (from requests->torchvision) (2.0.7)\n",
      "Requirement already satisfied: certifi>=2017.4.17 in /Users/hec/Documents/unimelb/computer-vision/.venv/lib/python3.11/site-packages (from requests->torchvision) (2023.7.22)\n",
      "Requirement already satisfied: MarkupSafe>=2.0 in /Users/hec/Documents/unimelb/computer-vision/.venv/lib/python3.11/site-packages (from jinja2->torch==2.1.0->torchvision) (2.1.3)\n",
      "Requirement already satisfied: mpmath>=0.19 in /Users/hec/Documents/unimelb/computer-vision/.venv/lib/python3.11/site-packages (from sympy->torch==2.1.0->torchvision) (1.3.0)\n",
      "\n",
      "\u001b[1m[\u001b[0m\u001b[34;49mnotice\u001b[0m\u001b[1;39;49m]\u001b[0m\u001b[39;49m A new release of pip is available: \u001b[0m\u001b[31;49m23.2.1\u001b[0m\u001b[39;49m -> \u001b[0m\u001b[32;49m23.3\u001b[0m\n",
      "\u001b[1m[\u001b[0m\u001b[34;49mnotice\u001b[0m\u001b[1;39;49m]\u001b[0m\u001b[39;49m To update, run: \u001b[0m\u001b[32;49mpip install --upgrade pip\u001b[0m\n",
      "Requirement already satisfied: ftfy in /Users/hec/Documents/unimelb/computer-vision/.venv/lib/python3.11/site-packages (6.1.1)\n",
      "Requirement already satisfied: regex in /Users/hec/Documents/unimelb/computer-vision/.venv/lib/python3.11/site-packages (2023.10.3)\n",
      "Requirement already satisfied: tqdm in /Users/hec/Documents/unimelb/computer-vision/.venv/lib/python3.11/site-packages (4.66.1)\n",
      "Requirement already satisfied: wcwidth>=0.2.5 in /Users/hec/Documents/unimelb/computer-vision/.venv/lib/python3.11/site-packages (from ftfy) (0.2.8)\n",
      "\n",
      "\u001b[1m[\u001b[0m\u001b[34;49mnotice\u001b[0m\u001b[1;39;49m]\u001b[0m\u001b[39;49m A new release of pip is available: \u001b[0m\u001b[31;49m23.2.1\u001b[0m\u001b[39;49m -> \u001b[0m\u001b[32;49m23.3\u001b[0m\n",
      "\u001b[1m[\u001b[0m\u001b[34;49mnotice\u001b[0m\u001b[1;39;49m]\u001b[0m\u001b[39;49m To update, run: \u001b[0m\u001b[32;49mpip install --upgrade pip\u001b[0m\n",
      "Collecting git+https://github.com/openai/CLIP.git\n",
      "  Cloning https://github.com/openai/CLIP.git to /private/var/folders/7_/04ycmw7s02j2kfzppg4hj70h0000gn/T/pip-req-build-xu13_eu4\n",
      "  Running command git clone --filter=blob:none --quiet https://github.com/openai/CLIP.git /private/var/folders/7_/04ycmw7s02j2kfzppg4hj70h0000gn/T/pip-req-build-xu13_eu4\n",
      "  Resolved https://github.com/openai/CLIP.git to commit a1d071733d7111c9c014f024669f959182114e33\n",
      "  Installing build dependencies ... \u001b[?25ldone\n",
      "\u001b[?25h  Getting requirements to build wheel ... \u001b[?25ldone\n",
      "\u001b[?25h  Preparing metadata (pyproject.toml) ... \u001b[?25ldone\n",
      "\u001b[?25hRequirement already satisfied: ftfy in /Users/hec/Documents/unimelb/computer-vision/.venv/lib/python3.11/site-packages (from clip==1.0) (6.1.1)\n",
      "Requirement already satisfied: regex in /Users/hec/Documents/unimelb/computer-vision/.venv/lib/python3.11/site-packages (from clip==1.0) (2023.10.3)\n",
      "Requirement already satisfied: tqdm in /Users/hec/Documents/unimelb/computer-vision/.venv/lib/python3.11/site-packages (from clip==1.0) (4.66.1)\n",
      "Requirement already satisfied: torch in /Users/hec/Documents/unimelb/computer-vision/.venv/lib/python3.11/site-packages (from clip==1.0) (2.1.0)\n",
      "Requirement already satisfied: torchvision in /Users/hec/Documents/unimelb/computer-vision/.venv/lib/python3.11/site-packages (from clip==1.0) (0.16.0)\n",
      "Requirement already satisfied: wcwidth>=0.2.5 in /Users/hec/Documents/unimelb/computer-vision/.venv/lib/python3.11/site-packages (from ftfy->clip==1.0) (0.2.8)\n",
      "Requirement already satisfied: filelock in /Users/hec/Documents/unimelb/computer-vision/.venv/lib/python3.11/site-packages (from torch->clip==1.0) (3.12.4)\n",
      "Requirement already satisfied: typing-extensions in /Users/hec/Documents/unimelb/computer-vision/.venv/lib/python3.11/site-packages (from torch->clip==1.0) (4.8.0)\n",
      "Requirement already satisfied: sympy in /Users/hec/Documents/unimelb/computer-vision/.venv/lib/python3.11/site-packages (from torch->clip==1.0) (1.12)\n",
      "Requirement already satisfied: networkx in /Users/hec/Documents/unimelb/computer-vision/.venv/lib/python3.11/site-packages (from torch->clip==1.0) (3.1)\n",
      "Requirement already satisfied: jinja2 in /Users/hec/Documents/unimelb/computer-vision/.venv/lib/python3.11/site-packages (from torch->clip==1.0) (3.1.2)\n",
      "Requirement already satisfied: fsspec in /Users/hec/Documents/unimelb/computer-vision/.venv/lib/python3.11/site-packages (from torch->clip==1.0) (2023.9.2)\n",
      "Requirement already satisfied: numpy in /Users/hec/Documents/unimelb/computer-vision/.venv/lib/python3.11/site-packages (from torchvision->clip==1.0) (1.26.0)\n",
      "Requirement already satisfied: requests in /Users/hec/Documents/unimelb/computer-vision/.venv/lib/python3.11/site-packages (from torchvision->clip==1.0) (2.31.0)\n",
      "Requirement already satisfied: pillow!=8.3.*,>=5.3.0 in /Users/hec/Documents/unimelb/computer-vision/.venv/lib/python3.11/site-packages (from torchvision->clip==1.0) (10.0.1)\n",
      "Requirement already satisfied: MarkupSafe>=2.0 in /Users/hec/Documents/unimelb/computer-vision/.venv/lib/python3.11/site-packages (from jinja2->torch->clip==1.0) (2.1.3)\n",
      "Requirement already satisfied: charset-normalizer<4,>=2 in /Users/hec/Documents/unimelb/computer-vision/.venv/lib/python3.11/site-packages (from requests->torchvision->clip==1.0) (3.3.0)\n",
      "Requirement already satisfied: idna<4,>=2.5 in /Users/hec/Documents/unimelb/computer-vision/.venv/lib/python3.11/site-packages (from requests->torchvision->clip==1.0) (3.4)\n",
      "Requirement already satisfied: urllib3<3,>=1.21.1 in /Users/hec/Documents/unimelb/computer-vision/.venv/lib/python3.11/site-packages (from requests->torchvision->clip==1.0) (2.0.7)\n",
      "Requirement already satisfied: certifi>=2017.4.17 in /Users/hec/Documents/unimelb/computer-vision/.venv/lib/python3.11/site-packages (from requests->torchvision->clip==1.0) (2023.7.22)\n",
      "Requirement already satisfied: mpmath>=0.19 in /Users/hec/Documents/unimelb/computer-vision/.venv/lib/python3.11/site-packages (from sympy->torch->clip==1.0) (1.3.0)\n",
      "\n",
      "\u001b[1m[\u001b[0m\u001b[34;49mnotice\u001b[0m\u001b[1;39;49m]\u001b[0m\u001b[39;49m A new release of pip is available: \u001b[0m\u001b[31;49m23.2.1\u001b[0m\u001b[39;49m -> \u001b[0m\u001b[32;49m23.3\u001b[0m\n",
      "\u001b[1m[\u001b[0m\u001b[34;49mnotice\u001b[0m\u001b[1;39;49m]\u001b[0m\u001b[39;49m To update, run: \u001b[0m\u001b[32;49mpip install --upgrade pip\u001b[0m\n",
      "Requirement already satisfied: scikit-learn in /Users/hec/Documents/unimelb/computer-vision/.venv/lib/python3.11/site-packages (1.3.1)\n",
      "Requirement already satisfied: numpy<2.0,>=1.17.3 in /Users/hec/Documents/unimelb/computer-vision/.venv/lib/python3.11/site-packages (from scikit-learn) (1.26.0)\n",
      "Requirement already satisfied: scipy>=1.5.0 in /Users/hec/Documents/unimelb/computer-vision/.venv/lib/python3.11/site-packages (from scikit-learn) (1.11.3)\n",
      "Requirement already satisfied: joblib>=1.1.1 in /Users/hec/Documents/unimelb/computer-vision/.venv/lib/python3.11/site-packages (from scikit-learn) (1.3.2)\n",
      "Requirement already satisfied: threadpoolctl>=2.0.0 in /Users/hec/Documents/unimelb/computer-vision/.venv/lib/python3.11/site-packages (from scikit-learn) (3.2.0)\n",
      "\n",
      "\u001b[1m[\u001b[0m\u001b[34;49mnotice\u001b[0m\u001b[1;39;49m]\u001b[0m\u001b[39;49m A new release of pip is available: \u001b[0m\u001b[31;49m23.2.1\u001b[0m\u001b[39;49m -> \u001b[0m\u001b[32;49m23.3\u001b[0m\n",
      "\u001b[1m[\u001b[0m\u001b[34;49mnotice\u001b[0m\u001b[1;39;49m]\u001b[0m\u001b[39;49m To update, run: \u001b[0m\u001b[32;49mpip install --upgrade pip\u001b[0m\n",
      "Requirement already satisfied: tensorboard in /Users/hec/Documents/unimelb/computer-vision/.venv/lib/python3.11/site-packages (2.14.1)\n",
      "Requirement already satisfied: absl-py>=0.4 in /Users/hec/Documents/unimelb/computer-vision/.venv/lib/python3.11/site-packages (from tensorboard) (2.0.0)\n",
      "Requirement already satisfied: grpcio>=1.48.2 in /Users/hec/Documents/unimelb/computer-vision/.venv/lib/python3.11/site-packages (from tensorboard) (1.59.0)\n",
      "Requirement already satisfied: google-auth<3,>=1.6.3 in /Users/hec/Documents/unimelb/computer-vision/.venv/lib/python3.11/site-packages (from tensorboard) (2.23.3)\n",
      "Requirement already satisfied: google-auth-oauthlib<1.1,>=0.5 in /Users/hec/Documents/unimelb/computer-vision/.venv/lib/python3.11/site-packages (from tensorboard) (1.0.0)\n",
      "Requirement already satisfied: markdown>=2.6.8 in /Users/hec/Documents/unimelb/computer-vision/.venv/lib/python3.11/site-packages (from tensorboard) (3.5)\n",
      "Requirement already satisfied: numpy>=1.12.0 in /Users/hec/Documents/unimelb/computer-vision/.venv/lib/python3.11/site-packages (from tensorboard) (1.26.0)\n",
      "Requirement already satisfied: protobuf>=3.19.6 in /Users/hec/Documents/unimelb/computer-vision/.venv/lib/python3.11/site-packages (from tensorboard) (4.24.4)\n",
      "Requirement already satisfied: requests<3,>=2.21.0 in /Users/hec/Documents/unimelb/computer-vision/.venv/lib/python3.11/site-packages (from tensorboard) (2.31.0)\n",
      "Requirement already satisfied: setuptools>=41.0.0 in /Users/hec/Documents/unimelb/computer-vision/.venv/lib/python3.11/site-packages (from tensorboard) (68.1.2)\n",
      "Requirement already satisfied: six>1.9 in /Users/hec/Documents/unimelb/computer-vision/.venv/lib/python3.11/site-packages (from tensorboard) (1.16.0)\n",
      "Requirement already satisfied: tensorboard-data-server<0.8.0,>=0.7.0 in /Users/hec/Documents/unimelb/computer-vision/.venv/lib/python3.11/site-packages (from tensorboard) (0.7.1)\n",
      "Requirement already satisfied: werkzeug>=1.0.1 in /Users/hec/Documents/unimelb/computer-vision/.venv/lib/python3.11/site-packages (from tensorboard) (3.0.0)\n",
      "Requirement already satisfied: cachetools<6.0,>=2.0.0 in /Users/hec/Documents/unimelb/computer-vision/.venv/lib/python3.11/site-packages (from google-auth<3,>=1.6.3->tensorboard) (5.3.1)\n",
      "Requirement already satisfied: pyasn1-modules>=0.2.1 in /Users/hec/Documents/unimelb/computer-vision/.venv/lib/python3.11/site-packages (from google-auth<3,>=1.6.3->tensorboard) (0.3.0)\n",
      "Requirement already satisfied: rsa<5,>=3.1.4 in /Users/hec/Documents/unimelb/computer-vision/.venv/lib/python3.11/site-packages (from google-auth<3,>=1.6.3->tensorboard) (4.9)\n",
      "Requirement already satisfied: requests-oauthlib>=0.7.0 in /Users/hec/Documents/unimelb/computer-vision/.venv/lib/python3.11/site-packages (from google-auth-oauthlib<1.1,>=0.5->tensorboard) (1.3.1)\n",
      "Requirement already satisfied: charset-normalizer<4,>=2 in /Users/hec/Documents/unimelb/computer-vision/.venv/lib/python3.11/site-packages (from requests<3,>=2.21.0->tensorboard) (3.3.0)\n",
      "Requirement already satisfied: idna<4,>=2.5 in /Users/hec/Documents/unimelb/computer-vision/.venv/lib/python3.11/site-packages (from requests<3,>=2.21.0->tensorboard) (3.4)\n",
      "Requirement already satisfied: urllib3<3,>=1.21.1 in /Users/hec/Documents/unimelb/computer-vision/.venv/lib/python3.11/site-packages (from requests<3,>=2.21.0->tensorboard) (2.0.7)\n",
      "Requirement already satisfied: certifi>=2017.4.17 in /Users/hec/Documents/unimelb/computer-vision/.venv/lib/python3.11/site-packages (from requests<3,>=2.21.0->tensorboard) (2023.7.22)\n",
      "Requirement already satisfied: MarkupSafe>=2.1.1 in /Users/hec/Documents/unimelb/computer-vision/.venv/lib/python3.11/site-packages (from werkzeug>=1.0.1->tensorboard) (2.1.3)\n",
      "Requirement already satisfied: pyasn1<0.6.0,>=0.4.6 in /Users/hec/Documents/unimelb/computer-vision/.venv/lib/python3.11/site-packages (from pyasn1-modules>=0.2.1->google-auth<3,>=1.6.3->tensorboard) (0.5.0)\n",
      "Requirement already satisfied: oauthlib>=3.0.0 in /Users/hec/Documents/unimelb/computer-vision/.venv/lib/python3.11/site-packages (from requests-oauthlib>=0.7.0->google-auth-oauthlib<1.1,>=0.5->tensorboard) (3.2.2)\n",
      "\n",
      "\u001b[1m[\u001b[0m\u001b[34;49mnotice\u001b[0m\u001b[1;39;49m]\u001b[0m\u001b[39;49m A new release of pip is available: \u001b[0m\u001b[31;49m23.2.1\u001b[0m\u001b[39;49m -> \u001b[0m\u001b[32;49m23.3\u001b[0m\n",
      "\u001b[1m[\u001b[0m\u001b[34;49mnotice\u001b[0m\u001b[1;39;49m]\u001b[0m\u001b[39;49m To update, run: \u001b[0m\u001b[32;49mpip install --upgrade pip\u001b[0m\n"
     ]
    }
   ],
   "source": [
    "!pip install pandas\n",
    "!pip install torch\n",
    "!pip install torchvision\n",
    "!pip install ftfy regex tqdm\n",
    "!pip install git+https://github.com/openai/CLIP.git\n",
    "!pip install scikit-learn\n",
    "!pip install tensorboard"
   ]
  },
  {
   "cell_type": "code",
   "execution_count": 2,
   "metadata": {},
   "outputs": [
    {
     "name": "stderr",
     "output_type": "stream",
     "text": [
      "/Users/hec/Documents/unimelb/computer-vision/.venv/lib/python3.11/site-packages/tqdm/auto.py:21: TqdmWarning: IProgress not found. Please update jupyter and ipywidgets. See https://ipywidgets.readthedocs.io/en/stable/user_install.html\n",
      "  from .autonotebook import tqdm as notebook_tqdm\n"
     ]
    }
   ],
   "source": [
    "import csv\n",
    "import glob\n",
    "import numpy as np\n",
    "import torch\n",
    "import torch.nn as nn\n",
    "import torch.nn.functional as F\n",
    "from torch.utils.tensorboard import SummaryWriter\n",
    "\n",
    "from pathlib import Path\n",
    "from tqdm.auto import trange\n",
    "\n",
    "from classes.adaptation import calc_loss, construct_model\n",
    "from classes.asymmetricRecall import AsymmetricRecall\n",
    "from classes.embDataset import EmbDataset\n",
    "\n",
    "from utils.adaptationPreprocess import create_paired_embeddings_dict, merge_dicts_with_csv\n",
    "from utils.train_functions import train, validate, split_train_test"
   ]
  },
  {
   "cell_type": "code",
   "execution_count": 3,
   "metadata": {},
   "outputs": [],
   "source": [
    "LEFT_FILES_PATH = 'data/train/left/*'\n",
    "RIGHT_FILES_PATH = 'data/train/right/*'\n",
    "ALL_FILES_PATH = 'data/train/all/*'\n",
    "ALL_ENCODINGS_PATH = 'data/train_all_encodings.npy'\n",
    "ALL_FULL_ENCODINGS_PATH = 'data/train_all_full_encodings.npy'\n",
    "CSV_FILENAME = 'data/train.csv'\n",
    "SAVE_TO = 'output/'"
   ]
  },
  {
   "cell_type": "code",
   "execution_count": 4,
   "metadata": {},
   "outputs": [
    {
     "name": "stdout",
     "output_type": "stream",
     "text": [
      "(8398, 256)\n",
      "(8398, 256)\n",
      "<class 'list'>\n",
      "<class 'dict'> <class 'numpy.ndarray'> <class 'numpy.ndarray'>\n"
     ]
    }
   ],
   "source": [
    "test = np.load('data/clip_rn50_with_pca_256.npy', allow_pickle=True).reshape(-1)[0]\n",
    "print(test['left'].shape)\n",
    "print(test['right'].shape)\n",
    "print(type(test['left_name']))\n",
    "print(type(test), type(test['left']), type(test['right']))"
   ]
  },
  {
   "cell_type": "code",
   "execution_count": 5,
   "metadata": {},
   "outputs": [],
   "source": [
    "is_cuda = torch.cuda.is_available()\n",
    "if not is_cuda:\n",
    "    device = torch.device(\"cpu\")\n",
    "else:\n",
    "    device = torch.device(\"cuda\")"
   ]
  },
  {
   "cell_type": "code",
   "execution_count": 6,
   "metadata": {},
   "outputs": [],
   "source": [
    "runs = 1\n",
    "temperature = 1\n",
    "topk = [2]\n",
    "epochs = 100\n",
    "test_split = 0.7\n",
    "model_name = 'original'"
   ]
  },
  {
   "cell_type": "code",
   "execution_count": 7,
   "metadata": {},
   "outputs": [
    {
     "name": "stdout",
     "output_type": "stream",
     "text": [
      "(4000, 640)\n",
      "(4000, 6080)\n"
     ]
    }
   ],
   "source": [
    "all_encodings = np.load(ALL_ENCODINGS_PATH)\n",
    "all_full_encodings = np.load(ALL_FULL_ENCODINGS_PATH)\n",
    "# Number of dimensions of the encodings (output of 1 model in the first place, then output of the PCA of the concatenation of many layers)\n",
    "dimensions = all_encodings.shape[1]\n",
    "print(all_encodings.shape)\n",
    "print(all_full_encodings.shape)"
   ]
  },
  {
   "cell_type": "code",
   "execution_count": 8,
   "metadata": {},
   "outputs": [],
   "source": [
    "paired_embeddings = create_paired_embeddings_dict(all_full_encodings, ALL_FILES_PATH, LEFT_FILES_PATH, RIGHT_FILES_PATH)"
   ]
  },
  {
   "cell_type": "code",
   "execution_count": 9,
   "metadata": {},
   "outputs": [
    {
     "name": "stdout",
     "output_type": "stream",
     "text": [
      "(2000, 6080)\n"
     ]
    }
   ],
   "source": [
    "merged_dicts = merge_dicts_with_csv(CSV_FILENAME, paired_embeddings)\n",
    "print(merged_dicts['left'].shape)"
   ]
  },
  {
   "cell_type": "code",
   "execution_count": 10,
   "metadata": {},
   "outputs": [],
   "source": [
    "model = construct_model(model_name, dimensions).to(device)"
   ]
  },
  {
   "cell_type": "code",
   "execution_count": 11,
   "metadata": {},
   "outputs": [
    {
     "name": "stdout",
     "output_type": "stream",
     "text": [
      "total  2000\n",
      "train set without aug size  300\n",
      "train set with    aug size  300\n",
      "test  set without aug size   700\n"
     ]
    }
   ],
   "source": [
    "# load the dataset and split\n",
    "\n",
    "embds_dataset = EmbDataset(merged_dicts, only_original=False)\n",
    "\n",
    "print(\"total \", len(embds_dataset))\n",
    "in_dim = embds_dataset[0][0][\"left\"].shape[0]\n",
    "\n",
    "\n",
    "splitted = split_train_test(embds_dataset, test_split, device)\n",
    "train_set, valid_set = splitted[\"train\"], splitted[\"test\"]\n",
    "\n",
    "print(\"train set without aug size \", len(train_set[0][\"left\"]))\n",
    "print(\"train set with    aug size \", len(train_set[1][\"left\"]))\n",
    "print(\"test  set without aug size  \", len(valid_set[\"left\"]))\n",
    "\n",
    "metrics_of_all_runs = []\n",
    "\n",
    "info = (\n",
    "    \"Embd path: \"\n",
    "    + str(ALL_FULL_ENCODINGS_PATH)\n",
    "    + \"\\n\"\n",
    "    + \"Using augmented images: \"\n",
    "    + str(embds_dataset.augmented)\n",
    "    + \"\\n\"\n",
    ")"
   ]
  },
  {
   "cell_type": "code",
   "execution_count": 12,
   "metadata": {},
   "outputs": [
    {
     "name": "stderr",
     "output_type": "stream",
     "text": [
      "  0%|          | 0/1 [00:00<?, ?it/s]"
     ]
    },
    {
     "name": "stderr",
     "output_type": "stream",
     "text": []
    },
    {
     "name": "stdout",
     "output_type": "stream",
     "text": [
      "Epoch  10 / 100\r"
     ]
    },
    {
     "name": "stderr",
     "output_type": "stream",
     "text": []
    },
    {
     "name": "stdout",
     "output_type": "stream",
     "text": [
      "Epoch  20 / 100\r"
     ]
    },
    {
     "name": "stderr",
     "output_type": "stream",
     "text": []
    },
    {
     "name": "stdout",
     "output_type": "stream",
     "text": [
      "Epoch  30 / 100\r"
     ]
    },
    {
     "name": "stderr",
     "output_type": "stream",
     "text": []
    },
    {
     "name": "stdout",
     "output_type": "stream",
     "text": [
      "Epoch  40 / 100\r"
     ]
    },
    {
     "name": "stderr",
     "output_type": "stream",
     "text": []
    },
    {
     "name": "stdout",
     "output_type": "stream",
     "text": [
      "Epoch  50 / 100\r"
     ]
    },
    {
     "name": "stderr",
     "output_type": "stream",
     "text": []
    },
    {
     "name": "stdout",
     "output_type": "stream",
     "text": [
      "Epoch  60 / 100\r"
     ]
    },
    {
     "name": "stderr",
     "output_type": "stream",
     "text": []
    },
    {
     "name": "stdout",
     "output_type": "stream",
     "text": [
      "Epoch  70 / 100\r"
     ]
    },
    {
     "name": "stderr",
     "output_type": "stream",
     "text": []
    },
    {
     "name": "stdout",
     "output_type": "stream",
     "text": [
      "Epoch  80 / 100\r"
     ]
    },
    {
     "name": "stderr",
     "output_type": "stream",
     "text": []
    },
    {
     "name": "stdout",
     "output_type": "stream",
     "text": [
      "Epoch  90 / 100\r"
     ]
    },
    {
     "name": "stderr",
     "output_type": "stream",
     "text": []
    },
    {
     "name": "stdout",
     "output_type": "stream",
     "text": [
      "Epoch  100 / 100\r"
     ]
    },
    {
     "name": "stderr",
     "output_type": "stream",
     "text": [
      "100%|██████████| 100/100 [00:59<00:00,  1.69it/s]\n",
      "100%|██████████| 1/1 [00:59<00:00, 59.88s/it]\n"
     ]
    }
   ],
   "source": [
    "for run in trange(runs):\n",
    "    run_path = Path(SAVE_TO) / f\"run{run+1}\"\n",
    "    model = construct_model(model_name, in_dim).to(device)\n",
    "\n",
    "    writer = SummaryWriter(run_path)\n",
    "    writer.add_text(\"Temperature: \", str(temperature))\n",
    "    writer.add_text(\"Model\", str(model).replace(\"\\n\", \"  \\n\"))\n",
    "    writer.add_text(\"Informations: \", info.replace(\"\\n\", \"  \\n\"))\n",
    "\n",
    "    if model != \"dummy\":\n",
    "        optimizer = torch.optim.Adam(model.parameters())\n",
    "        # writer.add_text(\"Optimizer\", str(optimizer).replace(\"\\n\", \"  \\n\"))\n",
    "\n",
    "        metrics_per_run = train(\n",
    "            model,\n",
    "            optimizer,\n",
    "            calc_loss,\n",
    "            train_set,\n",
    "            valid_set,\n",
    "            epochs,\n",
    "            run_path,\n",
    "            temperature,\n",
    "            topk,\n",
    "            device,\n",
    "        )\n",
    "        # save the model and the optimizer state_dics for this run\n",
    "        torch.save(\n",
    "            {\n",
    "                \"epoch\": epochs,\n",
    "                \"state_dict\": model.state_dict(),\n",
    "                \"optimzier\": optimizer.state_dict(),\n",
    "            },\n",
    "            run_path / \"model_and_optimizer.pt\",\n",
    "        )\n",
    "    else:\n",
    "        metrics_per_run = validate(\n",
    "            model,\n",
    "            calc_loss,\n",
    "            valid_set,\n",
    "            temperature,\n",
    "            topk,\n",
    "            device,\n",
    "        )\n",
    "        for metric, val in metrics_per_run.items():\n",
    "            writer.add_scalar(metric, val, 1)\n",
    "            writer.flush()\n",
    "            \n",
    "\n",
    "    np.save(run_path / \"data\", metrics_per_run)\n",
    "\n",
    "    metrics_of_all_runs.append(metrics_per_run)\n",
    "\n",
    "    splitted = split_train_test(embds_dataset, test_split, device)\n",
    "    train_set, valid_set = splitted[\"train\"], splitted[\"test\"]"
   ]
  },
  {
   "cell_type": "code",
   "execution_count": 13,
   "metadata": {},
   "outputs": [],
   "source": [
    "\n",
    "# save all runs metrics into one file\n",
    "np.save(Path(SAVE_TO) / \"all_runs\", metrics_of_all_runs)\n",
    "\n",
    "avg_path = Path(SAVE_TO) / \"avg\"\n",
    "writer = SummaryWriter(avg_path)"
   ]
  },
  {
   "cell_type": "code",
   "execution_count": 14,
   "metadata": {},
   "outputs": [
    {
     "name": "stdout",
     "output_type": "stream",
     "text": [
      "{'train': {'Train/Loss': [5.703790187835693, 5.703559875488281, 5.7035813331604, 5.703587532043457, 5.70358943939209, 5.703582763671875, 5.703573226928711, 5.703558921813965, 5.703542709350586, 5.703524112701416, 5.703502655029297, 5.703476428985596, 5.703447341918945, 5.7034125328063965, 5.703370571136475, 5.7033233642578125, 5.703265190124512, 5.703198432922363, 5.7031097412109375, 5.703008651733398, 5.702878952026367, 5.702719211578369, 5.702506065368652, 5.7022294998168945, 5.701840400695801, 5.70127534866333, 5.7003960609436035, 5.698924541473389, 5.69627571105957, 5.690690994262695, 5.67966365814209, 5.660128116607666, 5.634043216705322, 5.620916366577148, 5.602248191833496, 5.586994171142578, 5.584691047668457, 5.585503101348877, 5.551000118255615, 5.548064231872559, 5.576379776000977, 5.574302673339844, 5.555549144744873, 5.546905994415283, 5.491826057434082, 5.51329231262207, 5.527447700500488, 5.536275863647461, 5.494196891784668, 5.522518634796143, 5.540899753570557, 5.564144134521484, 5.529521942138672, 5.610452175140381, 5.566533088684082, 5.542741775512695, 5.5296831130981445, 5.527067184448242, 5.58453369140625, 5.602822780609131, 5.594407081604004, 5.612475395202637, 5.595764636993408, 5.523711204528809, 5.571300506591797, 5.598004341125488, 5.595440864562988, 5.5680084228515625, 5.580788612365723, 5.55350399017334, 5.565558433532715, 5.561093330383301, 5.571112632751465, 5.538447856903076, 5.569328784942627, 5.659215927124023, 5.677618026733398, 5.6587724685668945, 5.627673149108887, 5.641808032989502, 5.661530494689941, 5.669909954071045, 5.661986351013184, 5.646668434143066, 5.634371757507324, 5.625094413757324, 5.625470161437988, 5.543687343597412, 5.64155387878418, 5.662525653839111, 5.64706563949585, 5.651798248291016, 5.655145645141602, 5.650994300842285, 5.654710292816162, 5.657079696655273, 5.64746618270874, 5.636991500854492, 5.632416725158691, 5.658080101013184], 'Train/top 2': [0.0, 0.02, 0.056666666666666664, 0.09333333333333334, 0.11, 0.11666666666666667, 0.12333333333333334, 0.12666666666666668, 0.13333333333333333, 0.13, 0.12666666666666668, 0.13, 0.12333333333333334, 0.12333333333333334, 0.11666666666666667, 0.11333333333333333, 0.11333333333333333, 0.11, 0.1, 0.1, 0.1, 0.09333333333333334, 0.08333333333333333, 0.08666666666666667, 0.08333333333333333, 0.08, 0.07666666666666666, 0.07666666666666666, 0.06666666666666667, 0.06333333333333334, 0.07, 0.06666666666666667, 0.06333333333333334, 0.07, 0.08333333333333333, 0.10666666666666667, 0.1, 0.09, 0.13, 0.09333333333333334, 0.08666666666666667, 0.1, 0.12333333333333334, 0.12, 0.11666666666666667, 0.09333333333333334, 0.09, 0.10666666666666667, 0.11333333333333333, 0.08, 0.08333333333333333, 0.07666666666666666, 0.07, 0.056666666666666664, 0.06, 0.04666666666666667, 0.06333333333333334, 0.06333333333333334, 0.05333333333333334, 0.056666666666666664, 0.05333333333333334, 0.043333333333333335, 0.04, 0.04, 0.043333333333333335, 0.03333333333333333, 0.023333333333333334, 0.043333333333333335, 0.03333333333333333, 0.03666666666666667, 0.03333333333333333, 0.02666666666666667, 0.02666666666666667, 0.02666666666666667, 0.013333333333333334, 0.03, 0.02, 0.016666666666666666, 0.023333333333333334, 0.02666666666666667, 0.016666666666666666, 0.02, 0.016666666666666666, 0.02666666666666667, 0.02, 0.023333333333333334, 0.023333333333333334, 0.05, 0.02666666666666667, 0.02, 0.02, 0.01, 0.013333333333333334, 0.03333333333333333, 0.023333333333333334, 0.02, 0.03, 0.016666666666666666, 0.02, 0.03333333333333333]}, 'test': {'Test/Loss': [6.551085948944092, 6.551083087921143, 6.551082611083984, 6.551081657409668, 6.551081657409668, 6.551081657409668, 6.55108118057251, 6.551080703735352, 6.551080703735352, 6.551080226898193, 6.551079750061035, 6.551079273223877, 6.551077842712402, 6.551077842712402, 6.551076889038086, 6.551074981689453, 6.5510735511779785, 6.551071643829346, 6.551069259643555, 6.5510663986206055, 6.551062107086182, 6.55105447769165, 6.551048278808594, 6.55103874206543, 6.551024436950684, 6.551002025604248, 6.550957202911377, 6.5509138107299805, 6.550868034362793, 6.55107307434082, 6.552331447601318, 6.555802345275879, 6.555854797363281, 6.559629440307617, 6.564915657043457, 6.563703536987305, 6.559423446655273, 6.565695762634277, 6.577164649963379, 6.565943717956543, 6.5617876052856445, 6.566040515899658, 6.5726847648620605, 6.586752891540527, 6.568763732910156, 6.567242622375488, 6.578200340270996, 6.58381462097168, 6.585880279541016, 6.576111793518066, 6.561836242675781, 6.575704574584961, 6.562231063842773, 6.576413154602051, 6.582731246948242, 6.6088056564331055, 6.621587753295898, 6.5699462890625, 6.5608649253845215, 6.562413215637207, 6.566777229309082, 6.572281837463379, 6.568601608276367, 6.599581718444824, 6.588089942932129, 6.579729080200195, 6.586109638214111, 6.569423675537109, 6.576496124267578, 6.589616775512695, 6.612810134887695, 6.609212875366211, 6.598705291748047, 6.588830947875977, 6.581972122192383, 6.56937837600708, 6.5710554122924805, 6.5740556716918945, 6.5728559494018555, 6.563840866088867, 6.56041145324707, 6.561776161193848, 6.566161632537842, 6.571514129638672, 6.574673652648926, 6.583863258361816, 6.5978899002075195, 6.587122440338135, 6.577071189880371, 6.574056625366211, 6.572300910949707, 6.565685272216797, 6.559332847595215, 6.559270858764648, 6.563371658325195, 6.574645042419434, 6.59332275390625, 6.59837532043457, 6.5902814865112305, 6.599577903747559], 'Test/top 2': [0.005714285714285714, 0.004285714285714286, 0.004285714285714286, 0.005714285714285714, 0.005714285714285714, 0.005714285714285714, 0.005714285714285714, 0.005714285714285714, 0.005714285714285714, 0.005714285714285714, 0.005714285714285714, 0.005714285714285714, 0.005714285714285714, 0.005714285714285714, 0.005714285714285714, 0.005714285714285714, 0.005714285714285714, 0.005714285714285714, 0.005714285714285714, 0.005714285714285714, 0.005714285714285714, 0.005714285714285714, 0.005714285714285714, 0.005714285714285714, 0.005714285714285714, 0.005714285714285714, 0.005714285714285714, 0.005714285714285714, 0.005714285714285714, 0.005714285714285714, 0.005714285714285714, 0.004285714285714286, 0.005714285714285714, 0.004285714285714286, 0.004285714285714286, 0.002857142857142857, 0.0014285714285714286, 0.004285714285714286, 0.004285714285714286, 0.007142857142857143, 0.005714285714285714, 0.005714285714285714, 0.004285714285714286, 0.002857142857142857, 0.002857142857142857, 0.002857142857142857, 0.005714285714285714, 0.005714285714285714, 0.004285714285714286, 0.002857142857142857, 0.002857142857142857, 0.004285714285714286, 0.014285714285714285, 0.0014285714285714286, 0.002857142857142857, 0.007142857142857143, 0.004285714285714286, 0.002857142857142857, 0.002857142857142857, 0.002857142857142857, 0.004285714285714286, 0.004285714285714286, 0.005714285714285714, 0.002857142857142857, 0.007142857142857143, 0.002857142857142857, 0.005714285714285714, 0.0, 0.002857142857142857, 0.004285714285714286, 0.004285714285714286, 0.01, 0.005714285714285714, 0.0014285714285714286, 0.008571428571428572, 0.002857142857142857, 0.002857142857142857, 0.0, 0.0014285714285714286, 0.005714285714285714, 0.002857142857142857, 0.008571428571428572, 0.0014285714285714286, 0.002857142857142857, 0.002857142857142857, 0.004285714285714286, 0.002857142857142857, 0.004285714285714286, 0.004285714285714286, 0.0014285714285714286, 0.004285714285714286, 0.002857142857142857, 0.0014285714285714286, 0.005714285714285714, 0.005714285714285714, 0.007142857142857143, 0.004285714285714286, 0.002857142857142857, 0.004285714285714286, 0.002857142857142857]}}\n"
     ]
    }
   ],
   "source": [
    "test = np.load('output/run1/data.npy', allow_pickle=True)\n",
    "print(test)"
   ]
  },
  {
   "cell_type": "code",
   "execution_count": null,
   "metadata": {},
   "outputs": [],
   "source": []
  }
 ],
 "metadata": {
  "kernelspec": {
   "display_name": ".venv",
   "language": "python",
   "name": "python3"
  },
  "language_info": {
   "codemirror_mode": {
    "name": "ipython",
    "version": 3
   },
   "file_extension": ".py",
   "mimetype": "text/x-python",
   "name": "python",
   "nbconvert_exporter": "python",
   "pygments_lexer": "ipython3",
   "version": "3.11.5"
  }
 },
 "nbformat": 4,
 "nbformat_minor": 2
}
